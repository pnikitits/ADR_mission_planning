{
 "cells": [
  {
   "cell_type": "markdown",
   "metadata": {},
   "source": [
    "# Exhaustive Search"
   ]
  },
  {
   "cell_type": "code",
   "execution_count": null,
   "metadata": {},
   "outputs": [],
   "source": [
    "# Make sure the libraries are reloaded\n",
    "%load_ext autoreload\n",
    "%autoreload 2"
   ]
  },
  {
   "cell_type": "markdown",
   "metadata": {},
   "source": [
    "### Import"
   ]
  },
  {
   "cell_type": "code",
   "execution_count": null,
   "metadata": {},
   "outputs": [],
   "source": [
    "import numpy as np\n",
    "from src.environment.ADR_Environment import ADR_Environment\n",
    "from src.simulator.Simulator import Simulator\n",
    "import yaml\n",
    "import pandas as pd\n",
    "import csv\n",
    "from tqdm import tqdm"
   ]
  },
  {
   "cell_type": "markdown",
   "metadata": {},
   "source": [
    "### Load config file"
   ]
  },
  {
   "cell_type": "code",
   "execution_count": null,
   "metadata": {},
   "outputs": [],
   "source": [
    "with open(\"src/config/exhaustive_config.yaml\") as file: # change file name to use different sweep\n",
    "        config = yaml.load(file, Loader=yaml.FullLoader)\n",
    "\n",
    "\n",
    "n_debris = config['environment_parameters']['total_n_debris']"
   ]
  },
  {
   "cell_type": "markdown",
   "metadata": {},
   "source": [
    "### Generate all possible combinations of debris to visit"
   ]
  },
  {
   "cell_type": "code",
   "execution_count": null,
   "metadata": {},
   "outputs": [],
   "source": [
    "def generate_permutations(nums, length):\n",
    "    def backtrack(visited, path):\n",
    "        if len(path) == length:\n",
    "            permutations.append(path[:])\n",
    "            return\n",
    "        for num in nums:\n",
    "            if num not in visited:\n",
    "                visited.add(num)\n",
    "                path.append(num)\n",
    "                backtrack(visited, path)\n",
    "                path.pop()\n",
    "                visited.remove(num)\n",
    "\n",
    "    permutations = []\n",
    "    backtrack(set(), [])\n",
    "    return permutations\n",
    "\n",
    "nums_range = range(0, n_debris)  # Range of available integers\n",
    "combination_length = 5   # Length of the combination\n",
    "combinations = generate_permutations(nums_range, combination_length)"
   ]
  },
  {
   "cell_type": "markdown",
   "metadata": {},
   "source": [
    "### Initialize lists to store results"
   ]
  },
  {
   "cell_type": "code",
   "execution_count": null,
   "metadata": {},
   "outputs": [],
   "source": [
    "sum_rewards_per_combination = []\n",
    "fuel_used = []\n",
    "time_used = []"
   ]
  },
  {
   "cell_type": "markdown",
   "metadata": {},
   "source": [
    "### Run the exhaustive search\n"
   ]
  },
  {
   "cell_type": "code",
   "execution_count": null,
   "metadata": {},
   "outputs": [],
   "source": [
    "env = ADR_Environment()\n",
    "env.env_init(env_info=config['environment_parameters'])\n",
    "with tqdm(total=len(combinations)) as pbar:\n",
    "    for i, combination in enumerate(combinations):\n",
    "    # rl episode\n",
    "        #print(f\"combination {i}\")\n",
    "        is_terminal = False\n",
    "        sum_rewards = 0.0\n",
    "        action_key = combination[0]\n",
    "        first_debris, _ = env.action_space[action_key]\n",
    "        observation = env.env_start(first_debris = first_debris)\n",
    "        action_id = 0\n",
    "        num_steps = 0\n",
    "        for action in combination[1:]:\n",
    "            (reward, last_state, term) = env.env_step(action)\n",
    "            sum_rewards += reward\n",
    "            num_steps += 1\n",
    "            if term:\n",
    "                break\n",
    "        #print(f\"Combination: {combination}, Reward: {sum_rewards}\")\n",
    "        sum_rewards_per_combination.append(sum_rewards)\n",
    "        fuel_used.append(env.dv_max_per_mission - last_state[2])\n",
    "        time_used.append(env.dt_max_per_mission - last_state[3])\n",
    "        pbar.update(1)\n",
    "\n",
    "df = pd.DataFrame({'combination': combinations, 'sum_rewards': sum_rewards_per_combination, 'fuel_used': fuel_used, 'time_used': time_used})"
   ]
  },
  {
   "cell_type": "code",
   "execution_count": null,
   "metadata": {},
   "outputs": [],
   "source": [
    "df = df.sort_values(by='sum_rewards', ascending=False)\n",
    "df"
   ]
  },
  {
   "cell_type": "code",
   "execution_count": null,
   "metadata": {},
   "outputs": [],
   "source": [
    "df.to_csv('results/exhaustive_sweep_results.csv', index=False)"
   ]
  },
  {
   "cell_type": "code",
   "execution_count": null,
   "metadata": {},
   "outputs": [],
   "source": [
    "df = df[df['sum_rewards'] == df['sum_rewards'].max()]\n",
    "df"
   ]
  },
  {
   "cell_type": "code",
   "execution_count": null,
   "metadata": {},
   "outputs": [],
   "source": [
    "# sort df by fuel used and output the 10 first\n",
    "df = df.sort_values(by='fuel_used')"
   ]
  },
  {
   "cell_type": "code",
   "execution_count": null,
   "metadata": {},
   "outputs": [],
   "source": []
  }
 ],
 "metadata": {
  "kernelspec": {
   "display_name": "Astro",
   "language": "python",
   "name": "python3"
  },
  "language_info": {
   "codemirror_mode": {
    "name": "ipython",
    "version": 3
   },
   "file_extension": ".py",
   "mimetype": "text/x-python",
   "name": "python",
   "nbconvert_exporter": "python",
   "pygments_lexer": "ipython3",
   "version": "3.8.18"
  }
 },
 "nbformat": 4,
 "nbformat_minor": 2
}
