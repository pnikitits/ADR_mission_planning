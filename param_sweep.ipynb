{
 "cells": [
  {
   "cell_type": "code",
   "execution_count": null,
   "metadata": {},
   "outputs": [],
   "source": [
    "import torch\n",
    "import wandb\n",
    "import yaml\n",
    "\n",
    "from src.environment.ADR_Environment import ADR_Environment\n",
    "from src.agent.pytorch_agent import Agent\n",
    "from src.trainer.trainer import run_experiment"
   ]
  },
  {
   "cell_type": "code",
   "execution_count": null,
   "metadata": {},
   "outputs": [],
   "source": [
    "def main():\n",
    "    a = wandb.init()\n",
    "    weights_file = None #'models/test_weights.pth'\n",
    "    experiment_parameters = {\"num_runs\":1,\n",
    "                                \"num_episodes\":2000,\n",
    "                                \"timeout\":2000,\n",
    "                                \"gpu_use\":True,\n",
    "                                \"track_wandb\":False}\n",
    "    environment_parameters = {}\n",
    "    current_env = ADR_Environment\n",
    "    agent_parameters = {\"network_config\":{\"state_dim\":25,\n",
    "                                            \"num_hidden_units\":512,\n",
    "                                            \"num_actions\":300,\n",
    "                                            \"weights_file\":weights_file},\n",
    "                            \"optimizer_config\":{\"step_size\": wandb.config.learning_rate, # working value 1e-3\n",
    "                                                \"beta_m\":0.9,\n",
    "                                                \"beta_v\":0.999,\n",
    "                                                \"epsilon\":1e-8},\n",
    "                            \"replay_buffer_size\":wandb.config.replay_buffer_size,\n",
    "                            \"minibatch_size\":wandb.config.minibatch_size,\n",
    "                            \"num_replay_updates_per_step\": wandb.config.replay_updates_per_step,\n",
    "                            \"gamma\":wandb.config.gamma,\n",
    "                            \"tau\":wandb.config.tau,\n",
    "                            \"seed\":0\n",
    "                            }\n",
    "\n",
    "    # Set device\n",
    "    gpu_use = experiment_parameters['gpu_use']\n",
    "    \n",
    "    if gpu_use and torch.cuda.is_available():\n",
    "        device = torch.device(\"cuda\")\n",
    "    else:\n",
    "        device = torch.device(\"cpu\")\n",
    "\n",
    "    agent_parameters['device'] = device\n",
    "    print(device)\n",
    "    current_agent = Agent\n",
    "    \n",
    "    run_experiment(current_env, current_agent, environment_parameters, agent_parameters, experiment_parameters)"
   ]
  },
  {
   "cell_type": "markdown",
   "metadata": {},
   "source": [
    "## Run sweeping"
   ]
  },
  {
   "cell_type": "code",
   "execution_count": null,
   "metadata": {},
   "outputs": [],
   "source": [
    "with open(\"src/config/sweep_config/grid.yaml\") as file: # change file name to use different sweep\n",
    "    sweep_configuration = yaml.load(file, Loader=yaml.FullLoader)"
   ]
  },
  {
   "cell_type": "code",
   "execution_count": null,
   "metadata": {},
   "outputs": [],
   "source": [
    "sweep_id = wandb.sweep(sweep=sweep_configuration, project=\"HPO-ADR\")"
   ]
  },
  {
   "cell_type": "code",
   "execution_count": null,
   "metadata": {},
   "outputs": [],
   "source": [
    "wandb.agent(sweep_id, function=main) # count = 20 if bayesian search, nothing if grid search"
   ]
  }
 ],
 "metadata": {
  "kernelspec": {
   "display_name": "Astro",
   "language": "python",
   "name": "python3"
  },
  "language_info": {
   "codemirror_mode": {
    "name": "ipython",
    "version": 3
   },
   "file_extension": ".py",
   "mimetype": "text/x-python",
   "name": "python",
   "nbconvert_exporter": "python",
   "pygments_lexer": "ipython3",
   "version": "3.8.18"
  }
 },
 "nbformat": 4,
 "nbformat_minor": 2
}
